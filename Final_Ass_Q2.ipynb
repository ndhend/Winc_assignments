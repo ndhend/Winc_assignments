{
  "nbformat": 4,
  "nbformat_minor": 0,
  "metadata": {
    "colab": {
      "provenance": [],
      "authorship_tag": "ABX9TyPaNnvvye/jFO+X7idjMFj1",
      "include_colab_link": true
    },
    "kernelspec": {
      "name": "python3",
      "display_name": "Python 3"
    },
    "language_info": {
      "name": "python"
    }
  },
  "cells": [
    {
      "cell_type": "markdown",
      "metadata": {
        "id": "view-in-github",
        "colab_type": "text"
      },
      "source": [
        "<a href=\"https://colab.research.google.com/github/ndhend/Winc_assignments/blob/main/Final_Ass_Q2.ipynb\" target=\"_parent\"><img src=\"https://colab.research.google.com/assets/colab-badge.svg\" alt=\"Open In Colab\"/></a>"
      ]
    },
    {
      "cell_type": "markdown",
      "source": [
        "# which countries are making the biggest strides in decreasing CO2 output?\n",
        "\n",
        "Answer: Germany, Norway and the United Kingdom\n",
        "Germany\t-0.0086\n",
        "Norway\t-0.0060\n",
        "United Kingdom\t-0.0042"
      ],
      "metadata": {
        "id": "cI7sz2SwLEz0"
      }
    },
    {
      "cell_type": "markdown",
      "source": [],
      "metadata": {
        "id": "JeYD84IfLN_c"
      }
    },
    {
      "cell_type": "code",
      "execution_count": null,
      "metadata": {
        "colab": {
          "base_uri": "https://localhost:8080/"
        },
        "id": "47T_xUKo-dk6",
        "outputId": "a7f78240-4c3c-41de-be3f-8db52ff22f1a"
      },
      "outputs": [
        {
          "output_type": "stream",
          "name": "stderr",
          "text": [
            "<ipython-input-20-abd1b18c5703>:14: SettingWithCopyWarning: \n",
            "A value is trying to be set on a copy of a slice from a DataFrame.\n",
            "Try using .loc[row_indexer,col_indexer] = value instead\n",
            "\n",
            "See the caveats in the documentation: https://pandas.pydata.org/pandas-docs/stable/user_guide/indexing.html#returning-a-view-versus-a-copy\n",
            "  countries['rolling_avg'] = rolling_avg.reset_index(level=0, drop=True)\n",
            "<ipython-input-20-abd1b18c5703>:17: SettingWithCopyWarning: \n",
            "A value is trying to be set on a copy of a slice from a DataFrame.\n",
            "Try using .loc[row_indexer,col_indexer] = value instead\n",
            "\n",
            "See the caveats in the documentation: https://pandas.pydata.org/pandas-docs/stable/user_guide/indexing.html#returning-a-view-versus-a-copy\n",
            "  countries['rolling_avg'] = countries['rolling_avg'].astype(float)\n"
          ]
        }
      ],
      "source": [
        "from pandas.core.groupby import groupby\n",
        "#import code\n",
        "import numpy as np\n",
        "import pandas as pd\n",
        "import matplotlib.pyplot as plt\n",
        "\n",
        "data = pd.read_csv('https://raw.githubusercontent.com/owid/co2-data/master/owid-co2-data.csv')\n",
        "cleaned_data = data.dropna()\n",
        "# cleaned_data\n",
        "\n",
        "countries = cleaned_data[['country', 'year', 'co2_per_capita']]\n",
        "country_grp = countries.groupby(['country'])\n",
        "rolling_avg = country_grp['co2_per_capita'].rolling(window=5).mean()\n",
        "countries['rolling_avg'] = rolling_avg.reset_index(level=0, drop=True)\n",
        "\n",
        "# Convert rolling_avg to floats\n",
        "countries['rolling_avg'] = countries['rolling_avg'].astype(float)\n",
        "\n",
        "# Calculate the maximum difference for each country\n",
        "max_diffs = countries.groupby('country')['rolling_avg'].apply(lambda x: x.diff().max())\n",
        "max_diffs = max_diffs.reset_index()\n",
        "max_diffs.columns = ['country', 'max_difference']\n",
        "\n",
        "# Sort and display results\n",
        "sorted_max_diffs = max_diffs.sort_values(by='max_difference')\n",
        "# display(sorted_max_diffs)\n",
        "\n",
        "\n",
        "\n",
        "\n",
        "\n",
        "\n"
      ]
    }
  ]
}